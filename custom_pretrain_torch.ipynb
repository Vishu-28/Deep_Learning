{
 "cells": [
  {
   "cell_type": "markdown",
   "id": "c7622570",
   "metadata": {},
   "source": [
    "# load and import the libraries"
   ]
  },
  {
   "cell_type": "code",
   "execution_count": 2,
   "id": "5ed612ad",
   "metadata": {},
   "outputs": [],
   "source": [
    "import torch\n",
    "import torch.nn as nn\n",
    "from torch import optim\n",
    "from torchvision import datasets, transforms, models\n",
    "from torch.utils.data import DataLoader\n",
    "import os"
   ]
  },
  {
   "cell_type": "markdown",
   "id": "fd115a8d",
   "metadata": {},
   "source": [
    "# transformations"
   ]
  },
  {
   "cell_type": "code",
   "execution_count": 3,
   "id": "4834f4e1",
   "metadata": {},
   "outputs": [],
   "source": [
    "img_transform = transforms.Compose([\n",
    "    transforms.ToTensor(),\n",
    "    transforms.Normalize((0.5,0.5,0.5), (0.5,0.5,0.5)),\n",
    "    transforms.RandomHorizontalFlip(),\n",
    "    transforms.RandomResizedCrop(128)\n",
    "])"
   ]
  },
  {
   "cell_type": "markdown",
   "id": "4714784e",
   "metadata": {},
   "source": [
    "# data loading"
   ]
  },
  {
   "cell_type": "code",
   "execution_count": 6,
   "id": "44d56a7e",
   "metadata": {},
   "outputs": [],
   "source": [
    "data_dir = './Euro/hymenoptera/'\n",
    "train_data = datasets.ImageFolder(root=os.path.join(data_dir, 'train'), transform=img_transform)\n",
    "val_data = datasets.ImageFolder(root=os.path.join(data_dir, 'val'), transform=img_transform)"
   ]
  },
  {
   "cell_type": "markdown",
   "id": "cbe63e4f",
   "metadata": {},
   "source": [
    "# data loader"
   ]
  },
  {
   "cell_type": "code",
   "execution_count": 7,
   "id": "d45f0bb2",
   "metadata": {},
   "outputs": [],
   "source": [
    "train_loader = DataLoader(train_data, batch_size=64, shuffle=True)\n",
    "val_loader = DataLoader(val_data, batch_size=64, shuffle=True)"
   ]
  },
  {
   "cell_type": "markdown",
   "id": "d120e34c",
   "metadata": {},
   "source": [
    "# define architecture"
   ]
  },
  {
   "cell_type": "code",
   "execution_count": 8,
   "id": "f4a33ecc",
   "metadata": {},
   "outputs": [
    {
     "name": "stderr",
     "output_type": "stream",
     "text": [
      "c:\\Users\\Kasarla Vishwaja\\Documents\\Deep_learning\\Deep_Learning\\Euro\\Lib\\site-packages\\torchvision\\models\\_utils.py:208: UserWarning: The parameter 'pretrained' is deprecated since 0.13 and may be removed in the future, please use 'weights' instead.\n",
      "  warnings.warn(\n",
      "c:\\Users\\Kasarla Vishwaja\\Documents\\Deep_learning\\Deep_Learning\\Euro\\Lib\\site-packages\\torchvision\\models\\_utils.py:223: UserWarning: Arguments other than a weight enum or `None` for 'weights' are deprecated since 0.13 and may be removed in the future. The current behavior is equivalent to passing `weights=ResNet18_Weights.IMAGENET1K_V1`. You can also use `weights=ResNet18_Weights.DEFAULT` to get the most up-to-date weights.\n",
      "  warnings.warn(msg)\n"
     ]
    }
   ],
   "source": [
    "model=models.resnet18(pretrained=True)\n",
    "in_features=model.fc.in_features\n",
    "fc=nn.Linear(in_features,2)\n",
    "\n",
    "criterion=nn.CrossEntropyLoss()\n",
    "optimizer=optim.Adam(fc.parameters(),lr=0.001)"
   ]
  },
  {
   "cell_type": "markdown",
   "id": "78b709b3",
   "metadata": {},
   "source": [
    "# train"
   ]
  },
  {
   "cell_type": "code",
   "execution_count": null,
   "id": "fb875eac",
   "metadata": {},
   "outputs": [],
   "source": []
  }
 ],
 "metadata": {
  "kernelspec": {
   "display_name": "Euro (3.12.4)",
   "language": "python",
   "name": "python3"
  },
  "language_info": {
   "codemirror_mode": {
    "name": "ipython",
    "version": 3
   },
   "file_extension": ".py",
   "mimetype": "text/x-python",
   "name": "python",
   "nbconvert_exporter": "python",
   "pygments_lexer": "ipython3",
   "version": "3.12.4"
  }
 },
 "nbformat": 4,
 "nbformat_minor": 5
}
